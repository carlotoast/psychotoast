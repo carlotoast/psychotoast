{
 "cells": [
  {
   "cell_type": "markdown",
   "metadata": {},
   "source": [
    "# Psychotoast MVP #"
   ]
  },
  {
   "cell_type": "code",
   "execution_count": 2,
   "metadata": {},
   "outputs": [],
   "source": [
    "import torch"
   ]
  },
  {
   "cell_type": "code",
   "execution_count": 3,
   "metadata": {},
   "outputs": [],
   "source": [
    "import transformers"
   ]
  },
  {
   "cell_type": "code",
   "execution_count": 4,
   "metadata": {},
   "outputs": [
    {
     "name": "stderr",
     "output_type": "stream",
     "text": [
      "Device set to use mps:0\n",
      "/opt/anaconda3/lib/python3.12/site-packages/transformers/pipelines/text_classification.py:106: UserWarning: `return_all_scores` is now deprecated,  if want a similar functionality use `top_k=None` instead of `return_all_scores=True` or `top_k=1` instead of `return_all_scores=False`.\n",
      "  warnings.warn(\n"
     ]
    },
    {
     "name": "stdout",
     "output_type": "stream",
     "text": [
      "[[{'label': 'anger', 'score': 0.007349223829805851}, {'label': 'disgust', 'score': 0.0020985123701393604}, {'label': 'fear', 'score': 0.14554806053638458}, {'label': 'joy', 'score': 0.0031471203546971083}, {'label': 'neutral', 'score': 0.004063247237354517}, {'label': 'sadness', 'score': 0.0025161707308143377}, {'label': 'surprise', 'score': 0.8352777361869812}]]\n"
     ]
    }
   ],
   "source": [
    "from transformers import pipeline\n",
    "\n",
    "pipe = pipeline(\"text-classification\", model=\"j-hartmann/emotion-english-distilroberta-base\", return_all_scores=True)\n",
    "\n",
    "# Example\n",
    "output = pipe(\"I'm feeling a bit overwhelmed but hopeful.\")\n",
    "print(output)"
   ]
  },
  {
   "cell_type": "code",
   "execution_count": 5,
   "metadata": {},
   "outputs": [
    {
     "name": "stdout",
     "output_type": "stream",
     "text": [
      "Hi, I’m your AI companion. How are you feeling today?\n",
      "[Sadness detected]\n",
      "I'm really sorry you're feeling this way. Want to talk more about what's going on?\n",
      "Take care! I'm always here when you need to talk.\n"
     ]
    }
   ],
   "source": [
    "# Emotion-to-response map\n",
    "emotion_responses = {\n",
    "    \"joy\": \"That's great to hear! What's been bringing you joy lately?\",\n",
    "    \"sadness\": \"I'm really sorry you're feeling this way. Want to talk more about what's going on?\",\n",
    "    \"anger\": \"It’s okay to feel angry. Want to unpack that together?\",\n",
    "    \"fear\": \"You’re not alone. Let’s explore what’s making you feel this way.\",\n",
    "    \"love\": \"It’s beautiful that you’re feeling love. Who or what’s making you feel this way?\",\n",
    "    \"surprise\": \"That sounds unexpected! Want to tell me more about it?\",\n",
    "    \"neutral\": \"I'm here with you. How are you feeling deep down?\"\n",
    "}\n",
    "\n",
    "# Chat loop\n",
    "def chat():\n",
    "    print(\"Hi, I’m your AI companion. How are you feeling today?\")\n",
    "    while True:\n",
    "        user_input = input(\"> \")\n",
    "        if user_input.lower() in [\"exit\", \"quit\", \"bye\"]:\n",
    "            print(\"Take care! I'm always here when you need to talk.\")\n",
    "            break\n",
    "        \n",
    "        # Get emotion scores\n",
    "        scores = pipe(user_input)[0]\n",
    "        top_emotion = max(scores, key=lambda x: x['score'])['label'].lower()\n",
    "        response = emotion_responses.get(top_emotion, \"I'm here for you.\")\n",
    "        \n",
    "        print(f\"[{top_emotion.title()} detected]\")\n",
    "        print(response)\n",
    "\n",
    "# Run it\n",
    "chat()"
   ]
  },
  {
   "cell_type": "code",
   "execution_count": null,
   "metadata": {},
   "outputs": [],
   "source": []
  }
 ],
 "metadata": {
  "kernelspec": {
   "display_name": "base",
   "language": "python",
   "name": "python3"
  },
  "language_info": {
   "codemirror_mode": {
    "name": "ipython",
    "version": 3
   },
   "file_extension": ".py",
   "mimetype": "text/x-python",
   "name": "python",
   "nbconvert_exporter": "python",
   "pygments_lexer": "ipython3",
   "version": "3.12.7"
  }
 },
 "nbformat": 4,
 "nbformat_minor": 2
}
